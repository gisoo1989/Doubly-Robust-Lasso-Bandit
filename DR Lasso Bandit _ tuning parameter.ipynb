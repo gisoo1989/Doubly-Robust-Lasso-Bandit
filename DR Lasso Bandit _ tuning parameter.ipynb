{
 "cells": [
  {
   "cell_type": "code",
   "execution_count": 1,
   "metadata": {},
   "outputs": [],
   "source": [
    "import numpy as np\n",
    "from scipy.stats import norm\n",
    "import matplotlib.pyplot as plt\n",
    "from sklearn import linear_model"
   ]
  },
  {
   "cell_type": "code",
   "execution_count": 2,
   "metadata": {},
   "outputs": [],
   "source": [
    "class LassoBandit:\n",
    "    def __init__(self,q,h,lam1,lam2,d,N):\n",
    "        self.Tx=np.empty((N, 0)).tolist()\n",
    "        self.Sx=np.empty((N, 0)).tolist()\n",
    "        self.Tr=np.empty((N, 0)).tolist()\n",
    "        self.Sr=np.empty((N, 0)).tolist()\n",
    "        self.q=q\n",
    "        self.h=h\n",
    "        self.lam1=lam1\n",
    "        self.lam2=lam2\n",
    "        self.d=d\n",
    "        self.N=N\n",
    "        self.beta_t=np.zeros((N,N*d))\n",
    "        self.beta_a=np.zeros((N,N*d))\n",
    "        self.n=0\n",
    "        self.lasso_t=linear_model.Lasso(alpha=self.lam1) #for force-sample estimator\n",
    "    \n",
    "    def choose_a(self,t,x): #x is N*d-dim vector \n",
    "        if t==((2**self.n-1)*self.N*self.q+1):\n",
    "            self.set=np.arange(t,t+self.q*self.N)\n",
    "            self.n+=1\n",
    "        if t in self.set:\n",
    "            ind=list(self.set).index(t)\n",
    "            self.action=ind//self.q\n",
    "            self.Tx[self.action].append(x)\n",
    "        else:\n",
    "            est=np.dot(self.beta_t,x) #N by 1\n",
    "            max_est=np.amax(est)\n",
    "            self.K=np.argwhere(est>max_est-self.h/2.) # action indexes\n",
    "            est2=[np.dot(x,self.beta_a[k[0]]) for k in self.K]\n",
    "            self.action=self.K[np.argmax(est2)][0]\n",
    "        self.Sx[self.action].append(x)\n",
    "        return(self.action)            \n",
    "             \n",
    "    def update_beta(self,rwd,t):\n",
    "        if t in self.set:\n",
    "            self.Tr[self.action].append(rwd)\n",
    "            if t>5:\n",
    "                self.lasso_t.fit(self.Tx[self.action],self.Tr[self.action])\n",
    "                self.beta_t[self.action]=self.lasso_t.coef_\n",
    "        self.Sr[self.action].append(rwd)\n",
    "        lam2_t=self.lam2*np.sqrt((np.log(t)+np.log(self.N*self.d))/t)\n",
    "        lasso_a=linear_model.Lasso(alpha=lam2_t)\n",
    "        if t>5:\n",
    "            lasso_a.fit(self.Sx[self.action],self.Sr[self.action])\n",
    "            self.beta_a[self.action]=lasso_a.coef_\n",
    "        \n",
    "        "
   ]
  },
  {
   "cell_type": "code",
   "execution_count": 3,
   "metadata": {},
   "outputs": [],
   "source": [
    "class DRLassoBandit2:\n",
    "    def __init__(self,lam1,lam2,d,N,tc,tr,zt):\n",
    "        self.x=[]\n",
    "        self.r=[]\n",
    "        self.lam1=lam1\n",
    "        self.lam2=lam2\n",
    "        self.d=d\n",
    "        self.N=N\n",
    "        self.beta=np.zeros(d)\n",
    "        self.tc=tc\n",
    "        self.tr=tr\n",
    "        self.zt=zt\n",
    "        \n",
    "    def choose_a(self,t,x):  # x is N*d matrix\n",
    "        if t<self.zt:\n",
    "            self.action=np.random.choice(range(self.N))\n",
    "            self.pi=1./self.N\n",
    "        else:\n",
    "            uniformp=self.lam1*np.sqrt((np.log(t)+np.log(self.d))/t)\n",
    "            #print(uniformp)\n",
    "            uniformp=np.minimum(1.0,np.maximum(0.,uniformp))\n",
    "            choice=np.random.choice([0,1],p=[1.-uniformp,uniformp])\n",
    "            est=np.dot(x,self.beta)\n",
    "            if choice==1:\n",
    "                self.action=np.random.choice(range(self.N))\n",
    "                if self.action==np.argmax(est):\n",
    "                    self.pi=uniformp/self.N+(1.-uniformp)\n",
    "                else:\n",
    "                    self.pi=uniformp/self.N            \n",
    "            else:\n",
    "                self.action=np.argmax(est)\n",
    "                self.pi=uniformp/self.N+(1.-uniformp)\n",
    "            #print(self.pi)\n",
    "        self.x.append(np.mean(x,axis=0))\n",
    "        #print(np.mean(Xmat,axis=0).shape)\n",
    "        #print(self.x[-1])\n",
    "        self.rhat=np.dot(x,self.beta)\n",
    "        #print(self.rhat)\n",
    "        return(self.action)            \n",
    "             \n",
    "     \n",
    "    def update_beta(self,rwd,t):\n",
    "        #print(rwd)\n",
    "        pseudo_r=np.mean(self.rhat)+(rwd-self.rhat[self.action])/self.pi/self.N\n",
    "        if self.tr==True:\n",
    "            pseudo_r=np.minimum(3.,np.maximum(-3.,pseudo_r))\n",
    "        self.r.append(pseudo_r)\n",
    "        #print(pseudo_r)\n",
    "        if t>5:\n",
    "            if t>self.tc:\n",
    "                lam2_t=self.lam2*np.sqrt((np.log(t)+np.log(self.d))/t) \n",
    "            lasso=linear_model.Lasso(alpha=lam2_t)\n",
    "            #print(len(self.r))\n",
    "            lasso.fit(self.x,self.r)\n",
    "            self.beta=lasso.coef_"
   ]
  },
  {
   "cell_type": "code",
   "execution_count": 4,
   "metadata": {},
   "outputs": [],
   "source": [
    "#simulation settings\n",
    "\n",
    "N=100\n",
    "d=100\n",
    "s0=5\n",
    "R=0.05\n",
    "T=1000\n",
    "\n",
    "sigma_sq=1.\n",
    "rho_sq=0.7\n",
    "V=(sigma_sq-rho_sq)*np.eye(N)+rho_sq*np.ones((N,N))\n",
    "\n",
    "np.random.seed(1)\n",
    "\n",
    "beta=np.zeros(d)\n",
    "inds=np.random.choice(range(d),s0,replace=False)\n",
    "beta[inds]=np.random.uniform(0.,1.,s0)\n",
    "\n"
   ]
  },
  {
   "cell_type": "code",
   "execution_count": 5,
   "metadata": {},
   "outputs": [],
   "source": [
    "T1=[[1,1,0.05,0.05],[1,1,0.05,0.1],[1,1,0.05,0.5],[1,1,0.1,0.05],[1,1,0.1,0.1],[1,1,0.1,0.5],\n",
    "   [1,5,0.05,0.05],[1,5,0.05,0.1],[1,5,0.05,0.5],[1,5,0.1,0.05],[1,5,0.1,0.1],[1,5,0.1,0.5],\n",
    "   [5,1,0.05,0.05],[5,1,0.05,0.1],[5,1,0.05,0.5],[5,1,0.1,0.05],[5,1,0.1,0.1],[5,1,0.1,0.5],\n",
    "   [5,5,0.05,0.05],[5,5,0.05,0.1],[5,5,0.05,0.5],[5,5,0.1,0.05],[5,5,0.1,0.1],[5,5,0.1,0.5],\n",
    "   [10,1,0.05,0.05],[10,1,0.05,0.1],[10,1,0.05,0.5],[10,1,0.1,0.05],[10,1,0.1,0.1],[10,1,0.1,0.5],\n",
    "   [10,5,0.05,0.05],[10,5,0.05,0.1],[10,5,0.05,0.5],[10,5,0.1,0.05],[10,5,0.1,0.1],[10,5,0.1,0.5]]\n",
    "T2=[[1,0.05,10],[1,0.1,10],[1,0.5,10],[1.5,0.05,10],[1.5,0.1,10],[1.5,0.5,10],[2,0.05,10],[2,0.1,10],[2,0.5,10],\n",
    "   [1,0.05,30],[1,0.1,30],[1,0.5,30],[1.5,0.05,30],[1.5,0.1,30],[1.5,0.5,30],[2,0.05,30],[2,0.1,30],[2,0.5,30],\n",
    "   [1,0.05,50],[1,0.1,50],[1,0.5,50],[1.5,0.05,50],[1.5,0.1,50],[1.5,0.5,50],[2,0.05,50],[2,0.1,50],[2,0.5,50],\n",
    "   [1,0.05,100],[1,0.1,100],[1,0.5,100],[1.5,0.05,100],[1.5,0.1,100],[1.5,0.5,100],[2,0.05,100],[2,0.1,100],[2,0.5,100]]"
   ]
  },
  {
   "cell_type": "code",
   "execution_count": 6,
   "metadata": {},
   "outputs": [
    {
     "name": "stdout",
     "output_type": "stream",
     "text": [
      "36 36\n"
     ]
    }
   ],
   "source": [
    "print(len(T1),len(T2))"
   ]
  },
  {
   "cell_type": "code",
   "execution_count": 7,
   "metadata": {},
   "outputs": [
    {
     "name": "stderr",
     "output_type": "stream",
     "text": [
      "C:\\ProgramData\\Anaconda3\\lib\\site-packages\\sklearn\\linear_model\\coordinate_descent.py:491: ConvergenceWarning: Objective did not converge. You might want to increase the number of iterations. Fitting data with very small alpha may cause precision problems.\n",
      "  ConvergenceWarning)\n"
     ]
    },
    {
     "name": "stdout",
     "output_type": "stream",
     "text": [
      "0\n",
      "1\n",
      "2\n",
      "3\n",
      "4\n",
      "5\n",
      "6\n",
      "7\n",
      "8\n",
      "9\n",
      "10\n",
      "11\n",
      "12\n",
      "13\n",
      "14\n",
      "15\n",
      "16\n",
      "17\n",
      "18\n",
      "19\n",
      "20\n",
      "21\n",
      "22\n",
      "23\n",
      "24\n",
      "25\n",
      "26\n",
      "27\n",
      "28\n",
      "29\n",
      "30\n",
      "31\n",
      "32\n",
      "33\n",
      "34\n",
      "35\n"
     ]
    }
   ],
   "source": [
    "\n",
    "Val1=[]\n",
    "Val2=[]\n",
    "\n",
    "for it in range(36):\n",
    "\n",
    "    M1=LassoBandit(q=T1[it][0],h=T1[it][1],lam1=T1[it][2],lam2=T1[it][3],d=d,N=N)\n",
    "    M3=DRLassoBandit2(lam1=T2[it][0],lam2=T2[it][1],d=d,N=N,tc=1,tr=True,zt=T2[it][2])\n",
    "    RWD1=list()\n",
    "    RWD3=list()\n",
    "    optRWD=list()\n",
    "\n",
    "    for t in range(T):\n",
    "        x=np.random.multivariate_normal(np.zeros(N),V,d).T\n",
    "        #x=np.hstack((np.ones(N).reshape(N,1),x))\n",
    "        x_stack=x.reshape(N*d)\n",
    "    \n",
    "        err=R*np.random.randn()\n",
    "        \n",
    "        a1=M1.choose_a(t+1,x_stack)\n",
    "        rwd1=np.dot(x[a1],beta)+err\n",
    "        RWD1.append(np.dot(x[a1],beta))\n",
    "        M1.update_beta(rwd1,t+1)\n",
    "        \n",
    "\n",
    "        a3=M3.choose_a(t+1,x)\n",
    "        rwd3=np.dot(x[a3],beta)+err\n",
    "        RWD3.append(np.dot(x[a3],beta))\n",
    "        M3.update_beta(rwd3,t+1)\n",
    "    \n",
    "        optRWD.append(np.amax(np.dot(x,beta)))\n",
    "    \n",
    "        #print(t)\n",
    "    Val1.append(np.sum(optRWD)-np.sum(RWD1))\n",
    "    Val2.append(np.sum(optRWD)-np.sum(RWD3))\n",
    "    print(it)\n",
    "    "
   ]
  },
  {
   "cell_type": "code",
   "execution_count": 8,
   "metadata": {},
   "outputs": [
    {
     "data": {
      "text/plain": [
       "35"
      ]
     },
     "execution_count": 8,
     "metadata": {},
     "output_type": "execute_result"
    }
   ],
   "source": [
    "it"
   ]
  },
  {
   "cell_type": "code",
   "execution_count": 9,
   "metadata": {},
   "outputs": [
    {
     "data": {
      "text/plain": [
       "[1, 5, 0.05, 0.05]"
      ]
     },
     "execution_count": 9,
     "metadata": {},
     "output_type": "execute_result"
    }
   ],
   "source": [
    "T1[np.argmin(Val1)]"
   ]
  },
  {
   "cell_type": "code",
   "execution_count": 10,
   "metadata": {},
   "outputs": [
    {
     "data": {
      "text/plain": [
       "[1, 0.1, 10]"
      ]
     },
     "execution_count": 10,
     "metadata": {},
     "output_type": "execute_result"
    }
   ],
   "source": [
    "T2[np.argmin(Val2)]"
   ]
  },
  {
   "cell_type": "code",
   "execution_count": 11,
   "metadata": {},
   "outputs": [
    {
     "data": {
      "text/plain": [
       "1488.8772653807384"
      ]
     },
     "execution_count": 11,
     "metadata": {},
     "output_type": "execute_result"
    }
   ],
   "source": [
    "Val1[np.argmin(Val1)]"
   ]
  },
  {
   "cell_type": "code",
   "execution_count": 12,
   "metadata": {},
   "outputs": [
    {
     "data": {
      "text/plain": [
       "299.40150272456276"
      ]
     },
     "execution_count": 12,
     "metadata": {},
     "output_type": "execute_result"
    }
   ],
   "source": [
    "Val2[np.argmin(Val2)]"
   ]
  }
 ],
 "metadata": {
  "kernelspec": {
   "display_name": "Python 3",
   "language": "python",
   "name": "python3"
  },
  "language_info": {
   "codemirror_mode": {
    "name": "ipython",
    "version": 3
   },
   "file_extension": ".py",
   "mimetype": "text/x-python",
   "name": "python",
   "nbconvert_exporter": "python",
   "pygments_lexer": "ipython3",
   "version": "3.6.4"
  }
 },
 "nbformat": 4,
 "nbformat_minor": 2
}
